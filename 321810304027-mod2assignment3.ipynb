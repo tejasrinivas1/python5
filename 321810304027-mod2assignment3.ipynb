{
 "cells": [
  {
   "cell_type": "code",
   "execution_count": 1,
   "metadata": {},
   "outputs": [
    {
     "name": "stdout",
     "output_type": "stream",
     "text": [
      "Enter the radius of the circle: 3\n",
      "28.274333882308138\n"
     ]
    }
   ],
   "source": [
    "import math\n",
    "r = float(input(\"Enter the radius of the circle: \"))\n",
    "area = math.pi* r * r\n",
    "print(area)"
   ]
  },
  {
   "cell_type": "code",
   "execution_count": 2,
   "metadata": {},
   "outputs": [
    {
     "name": "stdout",
     "output_type": "stream",
     "text": [
      "Input number of sides: 5\n",
      "Input the length of a side: 2\n",
      "The area of the polygon is:  6.881909602355869\n"
     ]
    }
   ],
   "source": [
    "from math import tan, pi\n",
    "sides = int(input(\"Input number of sides: \"))\n",
    "length = float(input(\"Input the length of a side: \"))\n",
    "area = sides * (length ** 2) / (4 * tan(pi / sides))\n",
    "print(\"The area of the polygon is: \",area)"
   ]
  },
  {
   "cell_type": "code",
   "execution_count": 3,
   "metadata": {},
   "outputs": [
    {
     "name": "stdout",
     "output_type": "stream",
     "text": [
      "Enter the length of the diameter:5\n",
      " Enter the chord length:3\n",
      "1.0218819299580275\n"
     ]
    }
   ],
   "source": [
    "import math\n",
    "diameter=int(input(\"Enter the length of the diameter:\"))\n",
    "chord = int(input( \" Enter the chord length:\"))\n",
    "radius = (diameter/2)\n",
    "theta = math.acos((radius**2 + radius**2 - chord**2)/(2*radius**2))\n",
    "area = 1/2 * (theta - math.sin(theta)) * radius**2\n",
    "print(area)"
   ]
  },
  {
   "cell_type": "code",
   "execution_count": 4,
   "metadata": {},
   "outputs": [
    {
     "name": "stdout",
     "output_type": "stream",
     "text": [
      "[1, 100, 30, 'hi', 'hello', 40, 3, 2]\n"
     ]
    }
   ],
   "source": [
    "from random import shuffle\n",
    "l1=[100,1,2,3,30,40,'hi','hello']\n",
    "shuffle(l1)\n",
    "print(l1)"
   ]
  },
  {
   "cell_type": "code",
   "execution_count": 5,
   "metadata": {},
   "outputs": [
    {
     "data": {
      "text/plain": [
       "4101"
      ]
     },
     "execution_count": 5,
     "metadata": {},
     "output_type": "execute_result"
    }
   ],
   "source": [
    "import random\n",
    "random.randrange(1,10000,50)"
   ]
  },
  {
   "cell_type": "code",
   "execution_count": 26,
   "metadata": {},
   "outputs": [
    {
     "name": "stdout",
     "output_type": "stream",
     "text": [
      "0.8660254037844386\n",
      "-1.0\n",
      "1.633123935319537e+16\n",
      "390625.0\n",
      "20.0\n",
      "79.43235916621322\n",
      "10.0\n",
      "3.0102999566398116\n",
      "23\n",
      "24\n"
     ]
    }
   ],
   "source": [
    "import math\n",
    "print(math.sin(pi/3))\n",
    "print(math.cos(pi))\n",
    "print(math.tan(pi/2))\n",
    "print(math.degrees(math.sin(0.866)))\n",
    "print(math.pow(5,8))\n",
    "print(math.sqrt(400))\n",
    "print(math.pow(5,math.e))\n",
    "print(math.log(1024,2))\n",
    "print(math.log(1024,10))\n",
    "print(math.floor(23.56))\n",
    "print(math.ceil(23.56))"
   ]
  },
  {
   "cell_type": "code",
   "execution_count": null,
   "metadata": {},
   "outputs": [],
   "source": []
  }
 ],
 "metadata": {
  "kernelspec": {
   "display_name": "Python 3",
   "language": "python",
   "name": "python3"
  },
  "language_info": {
   "codemirror_mode": {
    "name": "ipython",
    "version": 3
   },
   "file_extension": ".py",
   "mimetype": "text/x-python",
   "name": "python",
   "nbconvert_exporter": "python",
   "pygments_lexer": "ipython3",
   "version": "3.7.6"
  }
 },
 "nbformat": 4,
 "nbformat_minor": 4
}
